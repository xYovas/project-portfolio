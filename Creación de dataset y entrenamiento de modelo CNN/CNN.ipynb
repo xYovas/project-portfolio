{
 "cells": [
  {
   "cell_type": "markdown",
   "metadata": {},
   "source": [
    "# Convolutional Neural Networks (CNN)"
   ]
  },
  {
   "cell_type": "markdown",
   "metadata": {},
   "source": []
  },
  {
   "cell_type": "markdown",
   "metadata": {},
   "source": [
    "# Importar Librerías"
   ]
  },
  {
   "cell_type": "code",
   "execution_count": 65,
   "metadata": {
    "ExecuteTime": {
     "end_time": "2018-11-08T00:12:59.231970Z",
     "start_time": "2018-11-08T00:12:51.800950Z"
    }
   },
   "outputs": [],
   "source": [
    "import numpy as np\n",
    "import os\n",
    "import re\n",
    "import matplotlib.pyplot as plt\n",
    "%matplotlib inline\n",
    "from sklearn.model_selection import train_test_split\n",
    "from sklearn.metrics import classification_report"
   ]
  },
  {
   "cell_type": "code",
   "execution_count": 66,
   "metadata": {
    "ExecuteTime": {
     "end_time": "2018-11-08T00:13:12.550878Z",
     "start_time": "2018-11-08T00:12:59.234748Z"
    }
   },
   "outputs": [],
   "source": [
    "import keras\n",
    "import tensorflow as tf\n",
    "from tensorflow.keras.utils import to_categorical\n",
    "from tensorflow.python.keras.models import Sequential, Input, Model\n",
    "from keras.layers import Dense, Dropout, Flatten\n",
    "from keras.layers import Conv2D, MaxPooling2D\n",
    "from tensorflow.keras.models import Sequential\n",
    "from tensorflow.keras.layers import (\n",
    "    BatchNormalization, SeparableConv2D, MaxPooling2D, Activation, Flatten, Dropout, Dense, Conv2D\n",
    ")\n",
    "from keras.layers import LeakyReLU"
   ]
  },
  {
   "cell_type": "markdown",
   "metadata": {},
   "source": [
    "# Cargar set de Imágenes"
   ]
  },
  {
   "cell_type": "code",
   "execution_count": 67,
   "metadata": {
    "ExecuteTime": {
     "end_time": "2018-11-08T00:16:45.248080Z",
     "start_time": "2018-11-08T00:13:12.553292Z"
    },
    "scrolled": true
   },
   "outputs": [
    {
     "name": "stdout",
     "output_type": "stream",
     "text": [
      "leyendo imagenes de  /home/geovanni/Jupython/notebookenv/datasetletrasyCNN/imagenes/caracteres/\n",
      "/home/geovanni/Jupython/notebookenv/datasetletrasyCNN/imagenes/caracteres/caracter50 1\n",
      "/home/geovanni/Jupython/notebookenv/datasetletrasyCNN/imagenes/caracteres/caracter29 71\n",
      "/home/geovanni/Jupython/notebookenv/datasetletrasyCNN/imagenes/caracteres/caracter47 71\n",
      "/home/geovanni/Jupython/notebookenv/datasetletrasyCNN/imagenes/caracteres/caracter35 71\n",
      "/home/geovanni/Jupython/notebookenv/datasetletrasyCNN/imagenes/caracteres/caracter30 71\n",
      "/home/geovanni/Jupython/notebookenv/datasetletrasyCNN/imagenes/caracteres/caracter27 71\n",
      "/home/geovanni/Jupython/notebookenv/datasetletrasyCNN/imagenes/caracteres/caracter7 71\n",
      "/home/geovanni/Jupython/notebookenv/datasetletrasyCNN/imagenes/caracteres/caracter40 71\n",
      "/home/geovanni/Jupython/notebookenv/datasetletrasyCNN/imagenes/caracteres/caracter28 71\n",
      "/home/geovanni/Jupython/notebookenv/datasetletrasyCNN/imagenes/caracteres/caracter54 71\n",
      "/home/geovanni/Jupython/notebookenv/datasetletrasyCNN/imagenes/caracteres/caracter39 71\n",
      "/home/geovanni/Jupython/notebookenv/datasetletrasyCNN/imagenes/caracteres/caracter58 71\n",
      "/home/geovanni/Jupython/notebookenv/datasetletrasyCNN/imagenes/caracteres/caracter57 71\n",
      "/home/geovanni/Jupython/notebookenv/datasetletrasyCNN/imagenes/caracteres/caracter52 71\n",
      "/home/geovanni/Jupython/notebookenv/datasetletrasyCNN/imagenes/caracteres/caracter33 71\n",
      "/home/geovanni/Jupython/notebookenv/datasetletrasyCNN/imagenes/caracteres/caracter6 71\n",
      "/home/geovanni/Jupython/notebookenv/datasetletrasyCNN/imagenes/caracteres/caracter11 71\n",
      "/home/geovanni/Jupython/notebookenv/datasetletrasyCNN/imagenes/caracteres/caracter32 71\n",
      "/home/geovanni/Jupython/notebookenv/datasetletrasyCNN/imagenes/caracteres/caracter45 71\n",
      "/home/geovanni/Jupython/notebookenv/datasetletrasyCNN/imagenes/caracteres/caracter23 71\n",
      "/home/geovanni/Jupython/notebookenv/datasetletrasyCNN/imagenes/caracteres/caracter44 71\n",
      "/home/geovanni/Jupython/notebookenv/datasetletrasyCNN/imagenes/caracteres/caracter41 71\n",
      "/home/geovanni/Jupython/notebookenv/datasetletrasyCNN/imagenes/caracteres/caracter2 71\n",
      "/home/geovanni/Jupython/notebookenv/datasetletrasyCNN/imagenes/caracteres/caracter42 71\n",
      "/home/geovanni/Jupython/notebookenv/datasetletrasyCNN/imagenes/caracteres/caracter46 71\n",
      "/home/geovanni/Jupython/notebookenv/datasetletrasyCNN/imagenes/caracteres/caracter55 71\n",
      "/home/geovanni/Jupython/notebookenv/datasetletrasyCNN/imagenes/caracteres/caracter26 71\n",
      "/home/geovanni/Jupython/notebookenv/datasetletrasyCNN/imagenes/caracteres/caracter21 71\n",
      "/home/geovanni/Jupython/notebookenv/datasetletrasyCNN/imagenes/caracteres/caracter10 71\n",
      "/home/geovanni/Jupython/notebookenv/datasetletrasyCNN/imagenes/caracteres/caracter15 71\n",
      "/home/geovanni/Jupython/notebookenv/datasetletrasyCNN/imagenes/caracteres/caracter12 71\n",
      "/home/geovanni/Jupython/notebookenv/datasetletrasyCNN/imagenes/caracteres/caracter25 71\n",
      "/home/geovanni/Jupython/notebookenv/datasetletrasyCNN/imagenes/caracteres/caracter17 71\n",
      "/home/geovanni/Jupython/notebookenv/datasetletrasyCNN/imagenes/caracteres/caracter22 71\n",
      "/home/geovanni/Jupython/notebookenv/datasetletrasyCNN/imagenes/caracteres/caracter49 71\n",
      "/home/geovanni/Jupython/notebookenv/datasetletrasyCNN/imagenes/caracteres/caracter14 71\n",
      "/home/geovanni/Jupython/notebookenv/datasetletrasyCNN/imagenes/caracteres/caracter24 71\n",
      "/home/geovanni/Jupython/notebookenv/datasetletrasyCNN/imagenes/caracteres/caracter5 71\n",
      "/home/geovanni/Jupython/notebookenv/datasetletrasyCNN/imagenes/caracteres/caracter48 71\n",
      "/home/geovanni/Jupython/notebookenv/datasetletrasyCNN/imagenes/caracteres/caracter31 71\n",
      "/home/geovanni/Jupython/notebookenv/datasetletrasyCNN/imagenes/caracteres/caracter37 71\n",
      "/home/geovanni/Jupython/notebookenv/datasetletrasyCNN/imagenes/caracteres/caracter4 71\n",
      "/home/geovanni/Jupython/notebookenv/datasetletrasyCNN/imagenes/caracteres/caracter51 71\n",
      "/home/geovanni/Jupython/notebookenv/datasetletrasyCNN/imagenes/caracteres/caracter13 71\n",
      "/home/geovanni/Jupython/notebookenv/datasetletrasyCNN/imagenes/caracteres/caracter20 71\n",
      "/home/geovanni/Jupython/notebookenv/datasetletrasyCNN/imagenes/caracteres/caracter19 71\n",
      "/home/geovanni/Jupython/notebookenv/datasetletrasyCNN/imagenes/caracteres/caracter1 71\n",
      "/home/geovanni/Jupython/notebookenv/datasetletrasyCNN/imagenes/caracteres/caracter43 71\n",
      "/home/geovanni/Jupython/notebookenv/datasetletrasyCNN/imagenes/caracteres/caracter38 71\n",
      "/home/geovanni/Jupython/notebookenv/datasetletrasyCNN/imagenes/caracteres/caracter34 71\n",
      "/home/geovanni/Jupython/notebookenv/datasetletrasyCNN/imagenes/caracteres/caracter16 71\n",
      "/home/geovanni/Jupython/notebookenv/datasetletrasyCNN/imagenes/caracteres/caracter8 71\n",
      "/home/geovanni/Jupython/notebookenv/datasetletrasyCNN/imagenes/caracteres/caracter3 71\n",
      "/home/geovanni/Jupython/notebookenv/datasetletrasyCNN/imagenes/caracteres/caracter18 71\n",
      "/home/geovanni/Jupython/notebookenv/datasetletrasyCNN/imagenes/caracteres/caracter56 71\n",
      "/home/geovanni/Jupython/notebookenv/datasetletrasyCNN/imagenes/caracteres/caracter36 71\n",
      "/home/geovanni/Jupython/notebookenv/datasetletrasyCNN/imagenes/caracteres/caracter53 71\n",
      "/home/geovanni/Jupython/notebookenv/datasetletrasyCNN/imagenes/caracteres/caracter9 71\n",
      "Directorios leidos: 58\n",
      "Imagenes en cada directorio [72, 71, 71, 71, 71, 71, 71, 71, 71, 71, 71, 71, 71, 71, 71, 71, 71, 71, 71, 71, 71, 71, 71, 71, 71, 71, 71, 71, 71, 71, 71, 71, 71, 71, 71, 71, 71, 71, 71, 71, 71, 71, 71, 71, 71, 71, 71, 71, 71, 71, 71, 71, 71, 71, 71, 71, 71, 70]\n",
      "suma Total de imagenes en subdirs: 4118\n"
     ]
    }
   ],
   "source": [
    "dirname = os.path.join(os.getcwd(),'/home/geovanni/Jupython/notebookenv/datasetletrasyCNN/imagenes/caracteres')\n",
    "imgpath = dirname + os.sep \n",
    "\n",
    "images = []\n",
    "directories = []\n",
    "dircount = []\n",
    "prevRoot=''\n",
    "cant=0\n",
    "\n",
    "print(\"leyendo imagenes de \",imgpath)\n",
    "\n",
    "for root, dirnames, filenames in os.walk(imgpath):\n",
    "    for filename in filenames:\n",
    "        if re.search(\"\\.(jpg|jpeg|png|bmp|tiff)$\", filename):\n",
    "            cant=cant+1\n",
    "            filepath = os.path.join(root, filename)\n",
    "            image = plt.imread(filepath)\n",
    "            images.append(image)\n",
    "            b = \"Leyendo...\" + str(cant)\n",
    "            print (b, end=\"\\r\")\n",
    "            if prevRoot !=root:\n",
    "                print(root, cant)\n",
    "                prevRoot=root\n",
    "                directories.append(root)\n",
    "                dircount.append(cant)\n",
    "                cant=0\n",
    "dircount.append(cant)\n",
    "\n",
    "dircount = dircount[1:]\n",
    "dircount[0]=dircount[0]+1\n",
    "print('Directorios leidos:',len(directories))\n",
    "print(\"Imagenes en cada directorio\", dircount)\n",
    "print('suma Total de imagenes en subdirs:',sum(dircount))"
   ]
  },
  {
   "cell_type": "markdown",
   "metadata": {},
   "source": [
    "# Creación de las etiquetas"
   ]
  },
  {
   "cell_type": "code",
   "execution_count": 68,
   "metadata": {
    "ExecuteTime": {
     "end_time": "2018-11-08T00:16:45.269861Z",
     "start_time": "2018-11-08T00:16:45.251786Z"
    }
   },
   "outputs": [
    {
     "name": "stdout",
     "output_type": "stream",
     "text": [
      "Cantidad etiquetas creadas:  4118\n"
     ]
    }
   ],
   "source": [
    "labels=[]\n",
    "indice=0\n",
    "for cantidad in dircount:\n",
    "    for i in range(cantidad):\n",
    "        labels.append(indice)\n",
    "    indice=indice+1\n",
    "print(\"Cantidad etiquetas creadas: \",len(labels))\n"
   ]
  },
  {
   "cell_type": "code",
   "execution_count": 69,
   "metadata": {
    "ExecuteTime": {
     "end_time": "2018-11-08T00:16:45.285925Z",
     "start_time": "2018-11-08T00:16:45.273489Z"
    }
   },
   "outputs": [
    {
     "name": "stdout",
     "output_type": "stream",
     "text": [
      "0 caracter50\n",
      "1 caracter29\n",
      "2 caracter47\n",
      "3 caracter35\n",
      "4 caracter30\n",
      "5 caracter27\n",
      "6 caracter7\n",
      "7 caracter40\n",
      "8 caracter28\n",
      "9 caracter54\n",
      "10 caracter39\n",
      "11 caracter58\n",
      "12 caracter57\n",
      "13 caracter52\n",
      "14 caracter33\n",
      "15 caracter6\n",
      "16 caracter11\n",
      "17 caracter32\n",
      "18 caracter45\n",
      "19 caracter23\n",
      "20 caracter44\n",
      "21 caracter41\n",
      "22 caracter2\n",
      "23 caracter42\n",
      "24 caracter46\n",
      "25 caracter55\n",
      "26 caracter26\n",
      "27 caracter21\n",
      "28 caracter10\n",
      "29 caracter15\n",
      "30 caracter12\n",
      "31 caracter25\n",
      "32 caracter17\n",
      "33 caracter22\n",
      "34 caracter49\n",
      "35 caracter14\n",
      "36 caracter24\n",
      "37 caracter5\n",
      "38 caracter48\n",
      "39 caracter31\n",
      "40 caracter37\n",
      "41 caracter4\n",
      "42 caracter51\n",
      "43 caracter13\n",
      "44 caracter20\n",
      "45 caracter19\n",
      "46 caracter1\n",
      "47 caracter43\n",
      "48 caracter38\n",
      "49 caracter34\n",
      "50 caracter16\n",
      "51 caracter8\n",
      "52 caracter3\n",
      "53 caracter18\n",
      "54 caracter56\n",
      "55 caracter36\n",
      "56 caracter53\n",
      "57 caracter9\n"
     ]
    }
   ],
   "source": [
    "deportes=[]\n",
    "indice=0\n",
    "for directorio in directories:\n",
    "    name = directorio.split(os.sep)\n",
    "    print(indice , name[len(name)-1])\n",
    "    deportes.append(name[len(name)-1])\n",
    "    indice=indice+1"
   ]
  },
  {
   "cell_type": "code",
   "execution_count": 70,
   "metadata": {
    "ExecuteTime": {
     "end_time": "2018-11-08T00:16:45.498672Z",
     "start_time": "2018-11-08T00:16:45.290061Z"
    }
   },
   "outputs": [
    {
     "name": "stdout",
     "output_type": "stream",
     "text": [
      "Total number of outputs :  58\n",
      "Output classes :  [ 0  1  2  3  4  5  6  7  8  9 10 11 12 13 14 15 16 17 18 19 20 21 22 23\n",
      " 24 25 26 27 28 29 30 31 32 33 34 35 36 37 38 39 40 41 42 43 44 45 46 47\n",
      " 48 49 50 51 52 53 54 55 56 57]\n"
     ]
    }
   ],
   "source": [
    "y = np.array(labels)\n",
    "X = np.array(images, dtype=np.uint8)\n",
    "\n",
    "\n",
    "\n",
    "# Encuentra los números únicos de las etiquetas de entrenamiento\n",
    "classes = np.unique(y)\n",
    "nClasses = len(classes)\n",
    "print('Total number of outputs : ', nClasses)\n",
    "print('Output classes : ', classes)"
   ]
  },
  {
   "cell_type": "markdown",
   "metadata": {},
   "source": [
    "# Creación de Sets de Entrenamiento y Test"
   ]
  },
  {
   "cell_type": "code",
   "execution_count": 71,
   "metadata": {
    "ExecuteTime": {
     "end_time": "2018-11-08T00:16:45.669596Z",
     "start_time": "2018-11-08T00:16:45.502716Z"
    }
   },
   "outputs": [
    {
     "name": "stdout",
     "output_type": "stream",
     "text": [
      "Training data shape :  (3294, 50, 50) (3294,)\n",
      "Testing data shape :  (824, 50, 50) (824,)\n"
     ]
    }
   ],
   "source": [
    "train_X,test_X,train_Y,test_Y = train_test_split(X,y,test_size=0.2)\n",
    "print('Training data shape : ', train_X.shape, train_Y.shape)\n",
    "print('Testing data shape : ', test_X.shape, test_Y.shape)"
   ]
  },
  {
   "cell_type": "code",
   "execution_count": 72,
   "metadata": {
    "ExecuteTime": {
     "end_time": "2018-11-08T00:16:49.319746Z",
     "start_time": "2018-11-08T00:16:45.673944Z"
    }
   },
   "outputs": [
    {
     "data": {
      "text/plain": [
       "Text(0.5, 1.0, 'Ground Truth : 14')"
      ]
     },
     "execution_count": 72,
     "metadata": {},
     "output_type": "execute_result"
    },
    {
     "data": {
      "image/png": "[encoded data removed]",
      "text/plain": [
       "<Figure size 500x500 with 2 Axes>"
      ]
     },
     "metadata": {},
     "output_type": "display_data"
    }
   ],
   "source": [
    "plt.figure(figsize=[5,5])\n",
    "\n",
    "# Mostrar la primera imagen en los datos de entrenamiento\n",
    "plt.subplot(121)\n",
    "plt.imshow(train_X[0,:,:], cmap='gray')\n",
    "plt.title(\"Ground Truth : {}\".format(train_Y[0]))\n",
    "\n",
    "# Mostrar la primera imagen en los datos de prueba\n",
    "plt.subplot(122)\n",
    "plt.imshow(test_X[0,:,:], cmap='gray')\n",
    "plt.title(\"Ground Truth : {}\".format(test_Y[0]))"
   ]
  },
  {
   "cell_type": "markdown",
   "metadata": {},
   "source": [
    "# Preprocesamiento las imagenes"
   ]
  },
  {
   "cell_type": "code",
   "execution_count": 73,
   "metadata": {
    "ExecuteTime": {
     "end_time": "2018-11-08T00:16:50.798162Z",
     "start_time": "2018-11-08T00:16:49.322999Z"
    }
   },
   "outputs": [
    {
     "data": {
      "text/plain": [
       "<matplotlib.image.AxesImage at 0x7f8e00f24c10>"
      ]
     },
     "execution_count": 73,
     "metadata": {},
     "output_type": "execute_result"
    },
    {
     "data": {
      "image/png": "[encoded data removed]",
      "text/plain": [
       "<Figure size 640x480 with 1 Axes>"
      ]
     },
     "metadata": {},
     "output_type": "display_data"
    }
   ],
   "source": [
    "train_X = train_X.astype('float32')\n",
    "test_X = test_X.astype('float32')\n",
    "train_X = train_X/255.\n",
    "test_X = test_X/255.\n",
    "plt.imshow(test_X[0,:,:])"
   ]
  },
  {
   "cell_type": "markdown",
   "metadata": {},
   "source": [
    "# Se hace el One-hot Encoding para la red"
   ]
  },
  {
   "cell_type": "code",
   "execution_count": 74,
   "metadata": {
    "ExecuteTime": {
     "end_time": "2018-11-08T00:16:50.815482Z",
     "start_time": "2018-11-08T00:16:50.800831Z"
    }
   },
   "outputs": [
    {
     "name": "stdout",
     "output_type": "stream",
     "text": [
      "Original label: 15\n",
      "After conversion to one-hot: [0. 0. 0. 0. 0. 0. 0. 0. 0. 0. 0. 0. 0. 0. 0. 1. 0. 0. 0. 0. 0. 0. 0. 0.\n",
      " 0. 0. 0. 0. 0. 0. 0. 0. 0. 0. 0. 0. 0. 0. 0. 0. 0. 0. 0. 0. 0. 0. 0. 0.\n",
      " 0. 0. 0. 0. 0. 0. 0. 0. 0. 0.]\n"
     ]
    }
   ],
   "source": [
    "# Cambio de etiquetas categoricas a one-hot encoding\n",
    "train_Y_one_hot = to_categorical(train_Y)\n",
    "test_Y_one_hot = to_categorical(test_Y)\n",
    "\n",
    "# Mostrar cambios\n",
    "print('Original label:', train_Y[0])\n",
    "print('After conversion to one-hot:', train_Y_one_hot[0])"
   ]
  },
  {
   "cell_type": "markdown",
   "metadata": {},
   "source": [
    "# Creación del Set de Entrenamiento y Validación"
   ]
  },
  {
   "cell_type": "code",
   "execution_count": 75,
   "metadata": {
    "ExecuteTime": {
     "end_time": "2018-11-08T00:16:51.218520Z",
     "start_time": "2018-11-08T00:16:50.818992Z"
    }
   },
   "outputs": [],
   "source": [
    "#Mezclar todo y crear los grupos de entrenamiento y testing\n",
    "train_X,valid_X,train_label,valid_label = train_test_split(train_X, train_Y_one_hot, test_size=0.2, random_state=13)"
   ]
  },
  {
   "cell_type": "code",
   "execution_count": 76,
   "metadata": {
    "ExecuteTime": {
     "end_time": "2018-11-08T00:16:51.228116Z",
     "start_time": "2018-11-08T00:16:51.222460Z"
    }
   },
   "outputs": [
    {
     "name": "stdout",
     "output_type": "stream",
     "text": [
      "(2635, 50, 50) (659, 50, 50) (2635, 58) (659, 58)\n"
     ]
    }
   ],
   "source": [
    "print(train_X.shape,valid_X.shape,train_label.shape,valid_label.shape)"
   ]
  },
  {
   "cell_type": "markdown",
   "metadata": {},
   "source": [
    "# Creación el modelo de CNN"
   ]
  },
  {
   "cell_type": "code",
   "execution_count": 77,
   "metadata": {
    "ExecuteTime": {
     "end_time": "2018-11-08T00:16:51.244776Z",
     "start_time": "2018-11-08T00:16:51.238704Z"
    }
   },
   "outputs": [],
   "source": [
    "#declaramos variables con los parámetros de configuración de la red\n",
    "INIT_LR = 1e-1 # Valor inicial de learning rate. El valor 1e-3 corresponde con 0.001\n",
    "epochs = 20 # Cantidad de iteraciones completas al conjunto de imagenes de entrenamiento\n",
    "batch_size = 64 # cantidad de imágenes que se toman a la vez en memoria"
   ]
  },
  {
   "cell_type": "code",
   "execution_count": 78,
   "metadata": {
    "ExecuteTime": {
     "end_time": "2018-11-08T00:16:51.384131Z",
     "start_time": "2018-11-08T00:16:51.252188Z"
    }
   },
   "outputs": [],
   "source": [
    "sport_model = Sequential()\n",
    "sport_model.add(Conv2D(32, kernel_size=(3, 3),activation='linear',padding='same',input_shape=(50,50,1)))\n",
    "sport_model.add(LeakyReLU(alpha=0.1))\n",
    "sport_model.add(MaxPooling2D((2, 2),padding='same'))\n",
    "sport_model.add(Dropout(0.5))\n",
    "\n",
    "sport_model.add(Flatten())\n",
    "sport_model.add(Dense(32, activation='linear'))\n",
    "sport_model.add(LeakyReLU(alpha=0.1))\n",
    "sport_model.add(Dropout(0.5))\n",
    "sport_model.add(Dense(nClasses, activation='softmax'))"
   ]
  },
  {
   "cell_type": "code",
   "execution_count": 79,
   "metadata": {
    "ExecuteTime": {
     "end_time": "2018-11-08T00:16:51.401674Z",
     "start_time": "2018-11-08T00:16:51.386676Z"
    }
   },
   "outputs": [
    {
     "name": "stdout",
     "output_type": "stream",
     "text": [
      "Model: \"sequential_2\"\n",
      "_________________________________________________________________\n",
      " Layer (type)                Output Shape              Param #   \n",
      "=================================================================\n",
      " conv2d_2 (Conv2D)           (None, 50, 50, 32)        320       \n",
      "                                                                 \n",
      " leaky_re_lu_4 (LeakyReLU)   (None, 50, 50, 32)        0         \n",
      "                                                                 \n",
      " max_pooling2d_2 (MaxPooling  (None, 25, 25, 32)       0         \n",
      " 2D)                                                             \n",
      "                                                                 \n",
      " dropout_4 (Dropout)         (None, 25, 25, 32)        0         \n",
      "                                                                 \n",
      " flatten_2 (Flatten)         (None, 20000)             0         \n",
      "                                                                 \n",
      " dense_4 (Dense)             (None, 32)                640032    \n",
      "                                                                 \n",
      " leaky_re_lu_5 (LeakyReLU)   (None, 32)                0         \n",
      "                                                                 \n",
      " dropout_5 (Dropout)         (None, 32)                0         \n",
      "                                                                 \n",
      " dense_5 (Dense)             (None, 58)                1914      \n",
      "                                                                 \n",
      "=================================================================\n",
      "Total params: 642,266\n",
      "Trainable params: 642,266\n",
      "Non-trainable params: 0\n",
      "_________________________________________________________________\n"
     ]
    }
   ],
   "source": [
    "sport_model.summary()"
   ]
  },
  {
   "cell_type": "code",
   "execution_count": 80,
   "metadata": {
    "ExecuteTime": {
     "end_time": "2018-11-08T00:16:51.472349Z",
     "start_time": "2018-11-08T00:16:51.406817Z"
    }
   },
   "outputs": [],
   "source": [
    "sport_model.compile(loss=keras.losses.categorical_crossentropy, optimizer=tf.keras.optimizers.legacy.SGD(learning_rate=INIT_LR, decay=INIT_LR / 100),metrics=['accuracy'])"
   ]
  },
  {
   "cell_type": "markdown",
   "metadata": {},
   "source": [
    "# Entrenamiento del modelo: Aprende a clasificar imágenes"
   ]
  },
  {
   "cell_type": "code",
   "execution_count": 83,
   "metadata": {
    "ExecuteTime": {
     "end_time": "2018-11-08T00:20:49.562522Z",
     "start_time": "2018-11-08T00:16:51.474807Z"
    },
    "scrolled": false
   },
   "outputs": [
    {
     "name": "stdout",
     "output_type": "stream",
     "text": [
      "Epoch 1/20\n",
      "42/42 [==============================] - 10s 224ms/step - loss: 1.4405 - accuracy: 0.5731 - val_loss: 1.0511 - val_accuracy: 0.7602\n",
      "Epoch 2/20\n",
      "42/42 [==============================] - 7s 166ms/step - loss: 1.4031 - accuracy: 0.5822 - val_loss: 1.0575 - val_accuracy: 0.7936\n",
      "Epoch 3/20\n",
      "42/42 [==============================] - 9s 216ms/step - loss: 1.3237 - accuracy: 0.5981 - val_loss: 0.9553 - val_accuracy: 0.8088\n",
      "Epoch 4/20\n",
      "42/42 [==============================] - 11s 267ms/step - loss: 1.2811 - accuracy: 0.6171 - val_loss: 0.8604 - val_accuracy: 0.8361\n",
      "Epoch 5/20\n",
      "42/42 [==============================] - 16s 382ms/step - loss: 1.2056 - accuracy: 0.6395 - val_loss: 0.8098 - val_accuracy: 0.8847\n",
      "Epoch 6/20\n",
      "42/42 [==============================] - 13s 322ms/step - loss: 1.1707 - accuracy: 0.6516 - val_loss: 0.7713 - val_accuracy: 0.8483\n",
      "Epoch 7/20\n",
      "42/42 [==============================] - 11s 261ms/step - loss: 1.1287 - accuracy: 0.6676 - val_loss: 0.8041 - val_accuracy: 0.8680\n",
      "Epoch 8/20\n",
      "42/42 [==============================] - 6s 143ms/step - loss: 1.1006 - accuracy: 0.6687 - val_loss: 0.6848 - val_accuracy: 0.8619\n",
      "Epoch 9/20\n",
      "42/42 [==============================] - 10s 234ms/step - loss: 1.0669 - accuracy: 0.6824 - val_loss: 0.6415 - val_accuracy: 0.8907\n",
      "Epoch 10/20\n",
      "42/42 [==============================] - 11s 272ms/step - loss: 1.0139 - accuracy: 0.7028 - val_loss: 0.6441 - val_accuracy: 0.9105\n",
      "Epoch 11/20\n",
      "42/42 [==============================] - 9s 215ms/step - loss: 1.0319 - accuracy: 0.6941 - val_loss: 0.7154 - val_accuracy: 0.8695\n",
      "Epoch 12/20\n",
      "42/42 [==============================] - 14s 344ms/step - loss: 0.9709 - accuracy: 0.7101 - val_loss: 0.5963 - val_accuracy: 0.9241\n",
      "Epoch 13/20\n",
      "42/42 [==============================] - 9s 221ms/step - loss: 0.9276 - accuracy: 0.7268 - val_loss: 0.5780 - val_accuracy: 0.9059\n",
      "Epoch 14/20\n",
      "42/42 [==============================] - 13s 299ms/step - loss: 0.9429 - accuracy: 0.7207 - val_loss: 0.5690 - val_accuracy: 0.9378\n",
      "Epoch 15/20\n",
      "42/42 [==============================] - 10s 249ms/step - loss: 0.9210 - accuracy: 0.7271 - val_loss: 0.5780 - val_accuracy: 0.9211\n",
      "Epoch 16/20\n",
      "42/42 [==============================] - 6s 154ms/step - loss: 0.8645 - accuracy: 0.7446 - val_loss: 0.5780 - val_accuracy: 0.8771\n",
      "Epoch 17/20\n",
      "42/42 [==============================] - 14s 337ms/step - loss: 0.8985 - accuracy: 0.7328 - val_loss: 0.5109 - val_accuracy: 0.9196\n",
      "Epoch 18/20\n",
      "42/42 [==============================] - 10s 236ms/step - loss: 0.8738 - accuracy: 0.7419 - val_loss: 0.5086 - val_accuracy: 0.9393\n",
      "Epoch 19/20\n",
      "42/42 [==============================] - 14s 337ms/step - loss: 0.8306 - accuracy: 0.7594 - val_loss: 0.4868 - val_accuracy: 0.9590\n",
      "Epoch 20/20\n",
      "42/42 [==============================] - 8s 204ms/step - loss: 0.8318 - accuracy: 0.7628 - val_loss: 0.4756 - val_accuracy: 0.9150\n"
     ]
    }
   ],
   "source": [
    "# este paso puede tomar varios minutos, dependiendo del ordenador\n",
    "sport_train = sport_model.fit(train_X, train_label, batch_size=batch_size,epochs=epochs,verbose=1,validation_data=(valid_X, valid_label))"
   ]
  },
  {
   "cell_type": "code",
   "execution_count": 85,
   "metadata": {
    "ExecuteTime": {
     "end_time": "2018-11-08T00:20:49.676566Z",
     "start_time": "2018-11-08T00:20:49.566203Z"
    }
   },
   "outputs": [
    {
     "name": "stderr",
     "output_type": "stream",
     "text": [
      "WARNING:absl:Found untraced functions such as _jit_compiled_convolution_op while saving (showing 1 of 1). These functions will not be directly callable after loading.\n"
     ]
    },
    {
     "name": "stdout",
     "output_type": "stream",
     "text": [
      "INFO:tensorflow:Assets written to: /home/geovanni/Documentos/celulas.h5py/assets\n"
     ]
    },
    {
     "name": "stderr",
     "output_type": "stream",
     "text": [
      "INFO:tensorflow:Assets written to: /home/geovanni/Documentos/celulas.h5py/assets\n"
     ]
    }
   ],
   "source": [
    "# se guarda la red para reutilizarla en el futuro sin tener que entrenar de nuevo\n",
    "sport_model.save(\"/home/geovanni/Documentos/celulas.h5py\")"
   ]
  },
  {
   "cell_type": "markdown",
   "metadata": {},
   "source": [
    "# Evaluación de la red"
   ]
  },
  {
   "cell_type": "code",
   "execution_count": 86,
   "metadata": {
    "ExecuteTime": {
     "end_time": "2018-11-08T00:20:54.462929Z",
     "start_time": "2018-11-08T00:20:49.678643Z"
    }
   },
   "outputs": [
    {
     "name": "stdout",
     "output_type": "stream",
     "text": [
      "26/26 [==============================] - 1s 25ms/step - loss: 0.6053 - accuracy: 0.9223\n"
     ]
    }
   ],
   "source": [
    "test_eval = sport_model.evaluate(test_X, test_Y_one_hot, verbose=1)"
   ]
  },
  {
   "cell_type": "code",
   "execution_count": 87,
   "metadata": {
    "ExecuteTime": {
     "end_time": "2018-11-08T00:20:54.474683Z",
     "start_time": "2018-11-08T00:20:54.465378Z"
    }
   },
   "outputs": [
    {
     "name": "stdout",
     "output_type": "stream",
     "text": [
      "Test loss: 0.6052572727203369\n",
      "Test accuracy: 0.9223300814628601\n"
     ]
    }
   ],
   "source": [
    "print('Test loss:', test_eval[0])\n",
    "print('Test accuracy:', test_eval[1])"
   ]
  },
  {
   "cell_type": "code",
   "execution_count": 88,
   "metadata": {},
   "outputs": [
    {
     "data": {
      "text/plain": [
       "{'loss': [1.4404972791671753,\n",
       "  1.4031267166137695,\n",
       "  1.3237196207046509,\n",
       "  1.2810659408569336,\n",
       "  1.2056361436843872,\n",
       "  1.1707007884979248,\n",
       "  1.128697395324707,\n",
       "  1.1006132364273071,\n",
       "  1.0669279098510742,\n",
       "  1.0139391422271729,\n",
       "  1.0318657159805298,\n",
       "  0.9709218740463257,\n",
       "  0.9275873303413391,\n",
       "  0.9429292678833008,\n",
       "  0.9209957122802734,\n",
       "  0.8645421862602234,\n",
       "  0.8984949588775635,\n",
       "  0.8738033771514893,\n",
       "  0.8305588364601135,\n",
       "  0.8318204879760742],\n",
       " 'accuracy': [0.5730550289154053,\n",
       "  0.5821632146835327,\n",
       "  0.5981024503707886,\n",
       "  0.6170778274536133,\n",
       "  0.6394686698913574,\n",
       "  0.6516128778457642,\n",
       "  0.6675521731376648,\n",
       "  0.6686906814575195,\n",
       "  0.6823529601097107,\n",
       "  0.7028462886810303,\n",
       "  0.6941176652908325,\n",
       "  0.7100569009780884,\n",
       "  0.7267552018165588,\n",
       "  0.7206830978393555,\n",
       "  0.7271347045898438,\n",
       "  0.744592010974884,\n",
       "  0.7328273057937622,\n",
       "  0.7419354915618896,\n",
       "  0.7593927979469299,\n",
       "  0.7628083229064941],\n",
       " 'val_loss': [1.0511151552200317,\n",
       "  1.0575073957443237,\n",
       "  0.9553269147872925,\n",
       "  0.8603633046150208,\n",
       "  0.8098345398902893,\n",
       "  0.7712795734405518,\n",
       "  0.8041331768035889,\n",
       "  0.6848219037055969,\n",
       "  0.6415186524391174,\n",
       "  0.6440725922584534,\n",
       "  0.7154076099395752,\n",
       "  0.596254825592041,\n",
       "  0.577961266040802,\n",
       "  0.5690293312072754,\n",
       "  0.5779990553855896,\n",
       "  0.5779745578765869,\n",
       "  0.5109077095985413,\n",
       "  0.5085645318031311,\n",
       "  0.48679694533348083,\n",
       "  0.4755997955799103],\n",
       " 'val_accuracy': [0.7602428197860718,\n",
       "  0.7936267256736755,\n",
       "  0.8088012337684631,\n",
       "  0.836115300655365,\n",
       "  0.8846737742424011,\n",
       "  0.848254919052124,\n",
       "  0.8679817914962769,\n",
       "  0.8619120121002197,\n",
       "  0.8907435536384583,\n",
       "  0.9104704260826111,\n",
       "  0.8694992661476135,\n",
       "  0.924127459526062,\n",
       "  0.9059180617332458,\n",
       "  0.9377844929695129,\n",
       "  0.9210925698280334,\n",
       "  0.8770865201950073,\n",
       "  0.9195750951766968,\n",
       "  0.9393019676208496,\n",
       "  0.9590288400650024,\n",
       "  0.9150227904319763]}"
      ]
     },
     "execution_count": 88,
     "metadata": {},
     "output_type": "execute_result"
    }
   ],
   "source": [
    "sport_train.history"
   ]
  },
  {
   "cell_type": "code",
   "execution_count": 89,
   "metadata": {
    "ExecuteTime": {
     "end_time": "2018-11-08T00:20:55.014647Z",
     "start_time": "2018-11-08T00:20:54.479693Z"
    },
    "scrolled": false
   },
   "outputs": [
    {
     "data": {
      "image/png": "[encoded data removed]",
      "text/plain": [
       "<Figure size 640x480 with 1 Axes>"
      ]
     },
     "metadata": {},
     "output_type": "display_data"
    },
    {
     "data": {
      "image/png": "[encoded data removed]",
      "text/plain": [
       "<Figure size 640x480 with 1 Axes>"
      ]
     },
     "metadata": {},
     "output_type": "display_data"
    }
   ],
   "source": [
    "accuracy = sport_train.history['accuracy']\n",
    "val_accuracy = sport_train.history['val_accuracy']\n",
    "loss = sport_train.history['loss']\n",
    "val_loss = sport_train.history['val_loss']\n",
    "epochs = range(len(accuracy))\n",
    "plt.plot(epochs, accuracy, 'bo', label='Training accuracy')\n",
    "plt.plot(epochs, val_accuracy, 'b', label='Validation accuracy')\n",
    "plt.title('Training and validation accuracy')\n",
    "plt.legend()\n",
    "plt.figure()\n",
    "plt.plot(epochs, loss, 'bo', label='Training loss')\n",
    "plt.plot(epochs, val_loss, 'b', label='Validation loss')\n",
    "plt.title('Training and validation loss')\n",
    "plt.legend()\n",
    "plt.show()"
   ]
  },
  {
   "cell_type": "code",
   "execution_count": 90,
   "metadata": {
    "ExecuteTime": {
     "end_time": "2018-11-08T00:20:58.050602Z",
     "start_time": "2018-11-08T00:20:55.021862Z"
    }
   },
   "outputs": [
    {
     "name": "stdout",
     "output_type": "stream",
     "text": [
      "26/26 [==============================] - 1s 31ms/step\n"
     ]
    }
   ],
   "source": [
    "predicted_classes2 = sport_model.predict(test_X)"
   ]
  },
  {
   "cell_type": "code",
   "execution_count": 91,
   "metadata": {
    "ExecuteTime": {
     "end_time": "2018-11-08T00:20:58.262575Z",
     "start_time": "2018-11-08T00:20:58.052878Z"
    }
   },
   "outputs": [],
   "source": [
    "predicted_classes=[]\n",
    "for predicted_sport in predicted_classes2:\n",
    "    predicted_classes.append(predicted_sport.tolist().index(max(predicted_sport)))\n",
    "predicted_classes=np.array(predicted_classes)"
   ]
  },
  {
   "cell_type": "code",
   "execution_count": 92,
   "metadata": {
    "ExecuteTime": {
     "end_time": "2018-11-08T00:20:58.272559Z",
     "start_time": "2018-11-08T00:20:58.264703Z"
    }
   },
   "outputs": [
    {
     "data": {
      "text/plain": [
       "((824,), (824,))"
      ]
     },
     "execution_count": 92,
     "metadata": {},
     "output_type": "execute_result"
    }
   ],
   "source": [
    "predicted_classes.shape, test_Y.shape"
   ]
  },
  {
   "cell_type": "markdown",
   "metadata": {},
   "source": [
    "# Aprendizaje en base a los errores: Qué mejorar?"
   ]
  },
  {
   "cell_type": "code",
   "execution_count": 93,
   "metadata": {
    "ExecuteTime": {
     "end_time": "2018-11-08T00:20:59.822110Z",
     "start_time": "2018-11-08T00:20:58.275464Z"
    }
   },
   "outputs": [
    {
     "name": "stdout",
     "output_type": "stream",
     "text": [
      "Found 760 correct labels\n"
     ]
    },
    {
     "name": "stderr",
     "output_type": "stream",
     "text": [
      "/tmp/ipykernel_4856/1908797607.py:4: MatplotlibDeprecationWarning: Auto-removal of overlapping axes is deprecated since 3.6 and will be removed two minor releases later; explicitly call ax.remove() as needed.\n",
      "  plt.subplot(3,3,i+1)\n"
     ]
    },
    {
     "data": {
      "image/png": "[encoded data removed]",
      "text/plain": [
       "<Figure size 640x480 with 8 Axes>"
      ]
     },
     "metadata": {},
     "output_type": "display_data"
    }
   ],
   "source": [
    "correct = np.where(predicted_classes==test_Y)[0]\n",
    "print(\"Found %d correct labels\" % len(correct))\n",
    "for i, correct in enumerate(correct[0:9]):\n",
    "    plt.subplot(3,3,i+1)\n",
    "    plt.imshow(test_X[correct].reshape(50,50,1), cmap='gray', interpolation='none')\n",
    "    plt.title(\"{}, {}\".format(deportes[predicted_classes[correct]],\n",
    "                                                    deportes[test_Y[correct]]))\n",
    "\n",
    "    plt.tight_layout()"
   ]
  },
  {
   "cell_type": "code",
   "execution_count": 94,
   "metadata": {
    "ExecuteTime": {
     "end_time": "2018-11-08T00:21:00.942267Z",
     "start_time": "2018-11-08T00:20:59.829572Z"
    }
   },
   "outputs": [
    {
     "name": "stdout",
     "output_type": "stream",
     "text": [
      "Found 64 incorrect labels\n"
     ]
    },
    {
     "name": "stderr",
     "output_type": "stream",
     "text": [
      "/tmp/ipykernel_4856/508027561.py:4: MatplotlibDeprecationWarning: Auto-removal of overlapping axes is deprecated since 3.6 and will be removed two minor releases later; explicitly call ax.remove() as needed.\n",
      "  plt.subplot(3,3,i+1)\n"
     ]
    },
    {
     "data": {
      "image/png": "[encoded data removed]",
      "text/plain": [
       "<Figure size 640x480 with 8 Axes>"
      ]
     },
     "metadata": {},
     "output_type": "display_data"
    }
   ],
   "source": [
    "incorrect = np.where(predicted_classes!=test_Y)[0]\n",
    "print(\"Found %d incorrect labels\" % len(incorrect))\n",
    "for i, incorrect in enumerate(incorrect[0:9]):\n",
    "    plt.subplot(3,3,i+1)\n",
    "    plt.imshow(test_X[incorrect].reshape(50,50,1), cmap='gray', interpolation='none')\n",
    "    plt.title(\"{}, {}\".format(deportes[predicted_classes[incorrect]],\n",
    "                                                    deportes[test_Y[incorrect]]))\n",
    "    plt.tight_layout()"
   ]
  },
  {
   "cell_type": "code",
   "execution_count": 95,
   "metadata": {
    "ExecuteTime": {
     "end_time": "2018-11-08T00:21:00.968727Z",
     "start_time": "2018-11-08T00:21:00.947262Z"
    },
    "scrolled": true
   },
   "outputs": [
    {
     "name": "stdout",
     "output_type": "stream",
     "text": [
      "              precision    recall  f1-score   support\n",
      "\n",
      "     Class 0       0.81      0.93      0.87        14\n",
      "     Class 1       0.71      0.75      0.73        16\n",
      "     Class 2       1.00      0.94      0.97        16\n",
      "     Class 3       0.92      1.00      0.96        12\n",
      "     Class 4       1.00      1.00      1.00        11\n",
      "     Class 5       1.00      1.00      1.00        11\n",
      "     Class 6       1.00      1.00      1.00        15\n",
      "     Class 7       0.92      1.00      0.96        11\n",
      "     Class 8       0.94      0.89      0.91        18\n",
      "     Class 9       1.00      1.00      1.00        17\n",
      "    Class 10       1.00      1.00      1.00        13\n",
      "    Class 11       1.00      0.93      0.96        14\n",
      "    Class 12       0.94      1.00      0.97        16\n",
      "    Class 13       1.00      0.93      0.97        15\n",
      "    Class 14       0.92      1.00      0.96        12\n",
      "    Class 15       1.00      0.14      0.25        14\n",
      "    Class 16       0.92      1.00      0.96        11\n",
      "    Class 17       1.00      1.00      1.00        17\n",
      "    Class 18       1.00      1.00      1.00        11\n",
      "    Class 19       1.00      0.15      0.27        13\n",
      "    Class 20       1.00      0.93      0.97        15\n",
      "    Class 21       0.87      1.00      0.93        13\n",
      "    Class 22       1.00      0.38      0.56        13\n",
      "    Class 23       1.00      1.00      1.00        12\n",
      "    Class 24       1.00      0.94      0.97        18\n",
      "    Class 25       0.92      1.00      0.96        12\n",
      "    Class 26       1.00      1.00      1.00        15\n",
      "    Class 27       1.00      1.00      1.00        16\n",
      "    Class 28       1.00      1.00      1.00        12\n",
      "    Class 29       0.94      1.00      0.97        17\n",
      "    Class 30       1.00      1.00      1.00        14\n",
      "    Class 31       1.00      0.92      0.96        13\n",
      "    Class 32       1.00      1.00      1.00        10\n",
      "    Class 33       1.00      1.00      1.00        11\n",
      "    Class 34       1.00      0.88      0.93        16\n",
      "    Class 35       0.93      1.00      0.96        13\n",
      "    Class 36       1.00      0.95      0.97        19\n",
      "    Class 37       0.81      0.87      0.84        15\n",
      "    Class 38       1.00      1.00      1.00        14\n",
      "    Class 39       1.00      1.00      1.00        12\n",
      "    Class 40       1.00      0.93      0.96        14\n",
      "    Class 41       1.00      1.00      1.00        15\n",
      "    Class 42       1.00      0.95      0.97        19\n",
      "    Class 43       1.00      0.92      0.96        12\n",
      "    Class 44       0.54      0.93      0.68        15\n",
      "    Class 45       0.91      0.91      0.91        11\n",
      "    Class 46       0.93      0.93      0.93        14\n",
      "    Class 47       0.93      1.00      0.97        14\n",
      "    Class 48       0.94      0.84      0.89        19\n",
      "    Class 49       0.75      0.80      0.77        15\n",
      "    Class 50       1.00      1.00      1.00        12\n",
      "    Class 51       1.00      1.00      1.00        14\n",
      "    Class 52       0.33      0.90      0.49        10\n",
      "    Class 53       0.86      0.92      0.89        13\n",
      "    Class 54       0.95      1.00      0.97        18\n",
      "    Class 55       1.00      1.00      1.00        19\n",
      "    Class 56       1.00      0.94      0.97        16\n",
      "    Class 57       0.94      1.00      0.97        17\n",
      "\n",
      "    accuracy                           0.92       824\n",
      "   macro avg       0.94      0.92      0.92       824\n",
      "weighted avg       0.94      0.92      0.92       824\n",
      "\n"
     ]
    }
   ],
   "source": [
    "target_names = [\"Class {}\".format(i) for i in range(nClasses)]\n",
    "print(classification_report(test_Y, predicted_classes, target_names=target_names))"
   ]
  },
  {
   "cell_type": "code",
   "execution_count": null,
   "metadata": {},
   "outputs": [],
   "source": []
  },
  {
   "cell_type": "code",
   "execution_count": null,
   "metadata": {},
   "outputs": [],
   "source": []
  },
  {
   "cell_type": "code",
   "execution_count": null,
   "metadata": {},
   "outputs": [],
   "source": []
  }
 ],
 "metadata": {
  "kernelspec": {
   "display_name": "Python 3 (ipykernel)",
   "language": "python",
   "name": "python3"
  },
  "language_info": {
   "codemirror_mode": {
    "name": "ipython",
    "version": 3
   },
   "file_extension": ".py",
   "mimetype": "text/x-python",
   "name": "python",
   "nbconvert_exporter": "python",
   "pygments_lexer": "ipython3",
   "version": "3.10.6"
  }
 },
 "nbformat": 4,
 "nbformat_minor": 2
}
